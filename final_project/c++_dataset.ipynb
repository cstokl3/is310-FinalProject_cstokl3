{
 "cells": [
  {
   "cell_type": "code",
   "execution_count": 1,
   "metadata": {},
   "outputs": [],
   "source": [
    "import snscrape.modules.twitter as sntwitter\n",
    "import pandas as pd\n",
    "import matplotlib_inline\n",
    "from datetime import datetime, timedelta\n",
    "from matplotlib import pyplot as plt\n",
    "from matplotlib import dates as mpl_dates"
   ]
  },
  {
   "cell_type": "code",
   "execution_count": 2,
   "metadata": {},
   "outputs": [],
   "source": [
    "# Creating list to append tweet data to\n",
    "tweets_list_cplus = []\n",
    "\n",
    "# Using TwitterSearchScraper to scrape data and append tweets to list\n",
    "for i,tweet in enumerate(sntwitter.TwitterSearchScraper('c++ AND programming since:2012-01-01 until:2022-01-01').get_items()):\n",
    "    tweets_list_cplus.append([tweet.date, tweet.id, tweet.content, tweet.user.username])\n",
    "    \n",
    "# Creating a dataframe from the tweets list above\n",
    "tweets_df_cplus = pd.DataFrame(tweets_list_cplus, columns=['Datetime', 'Tweet Id', 'Text', 'Username'])"
   ]
  },
  {
   "cell_type": "code",
   "execution_count": 5,
   "metadata": {},
   "outputs": [],
   "source": [
    "tweets_df_cplus.to_csv('cplus.csv')"
   ]
  },
  {
   "cell_type": "code",
   "execution_count": 3,
   "metadata": {},
   "outputs": [
    {
     "data": {
      "text/html": [
       "<div>\n",
       "<style scoped>\n",
       "    .dataframe tbody tr th:only-of-type {\n",
       "        vertical-align: middle;\n",
       "    }\n",
       "\n",
       "    .dataframe tbody tr th {\n",
       "        vertical-align: top;\n",
       "    }\n",
       "\n",
       "    .dataframe thead th {\n",
       "        text-align: right;\n",
       "    }\n",
       "</style>\n",
       "<table border=\"1\" class=\"dataframe\">\n",
       "  <thead>\n",
       "    <tr style=\"text-align: right;\">\n",
       "      <th></th>\n",
       "      <th>Datetime</th>\n",
       "      <th>Tweet Id</th>\n",
       "      <th>Text</th>\n",
       "      <th>Username</th>\n",
       "    </tr>\n",
       "  </thead>\n",
       "  <tbody>\n",
       "    <tr>\n",
       "      <th>244434</th>\n",
       "      <td>2012-01-01 00:13:05+00:00</td>\n",
       "      <td>153267463356817409</td>\n",
       "      <td>Data Structures Using C++ (Programming): This ...</td>\n",
       "      <td>darcy_parcy</td>\n",
       "    </tr>\n",
       "    <tr>\n",
       "      <th>244433</th>\n",
       "      <td>2012-01-01 00:30:03+00:00</td>\n",
       "      <td>153271732407500802</td>\n",
       "      <td>#Freelancer #jobs http://t.co/C1di97l3 Custom ...</td>\n",
       "      <td>GetAFreelancer</td>\n",
       "    </tr>\n",
       "    <tr>\n",
       "      <th>244432</th>\n",
       "      <td>2012-01-01 01:12:53+00:00</td>\n",
       "      <td>153282513492639745</td>\n",
       "      <td>Selby jennings paris Job IB (Paris) C++ Softwa...</td>\n",
       "      <td>Bfa_emploi</td>\n",
       "    </tr>\n",
       "    <tr>\n",
       "      <th>244431</th>\n",
       "      <td>2012-01-01 02:29:36+00:00</td>\n",
       "      <td>153301816988286976</td>\n",
       "      <td>Open Question: I want to learn c++ programming...</td>\n",
       "      <td>justnoob</td>\n",
       "    </tr>\n",
       "    <tr>\n",
       "      <th>244430</th>\n",
       "      <td>2012-01-01 02:37:34+00:00</td>\n",
       "      <td>153303824646418432</td>\n",
       "      <td>C programming http://t.co/lI6gAMuZ</td>\n",
       "      <td>CLchijobs</td>\n",
       "    </tr>\n",
       "    <tr>\n",
       "      <th>...</th>\n",
       "      <td>...</td>\n",
       "      <td>...</td>\n",
       "      <td>...</td>\n",
       "      <td>...</td>\n",
       "    </tr>\n",
       "    <tr>\n",
       "      <th>4</th>\n",
       "      <td>2021-12-31 22:23:30+00:00</td>\n",
       "      <td>1477042757516599300</td>\n",
       "      <td>Telegram Api Expert -- 2 https://t.co/26tFe2P3...</td>\n",
       "      <td>C_main_return_0</td>\n",
       "    </tr>\n",
       "    <tr>\n",
       "      <th>3</th>\n",
       "      <td>2021-12-31 22:23:31+00:00</td>\n",
       "      <td>1477042761920614403</td>\n",
       "      <td>Telegram Api Expert https://t.co/sJy9vhqQLY Mo...</td>\n",
       "      <td>C_main_return_0</td>\n",
       "    </tr>\n",
       "    <tr>\n",
       "      <th>2</th>\n",
       "      <td>2021-12-31 22:48:33+00:00</td>\n",
       "      <td>1477049063010803715</td>\n",
       "      <td>#CProgramming #Linux #RegularExpressions flex ...</td>\n",
       "      <td>Sol_Danmeri</td>\n",
       "    </tr>\n",
       "    <tr>\n",
       "      <th>1</th>\n",
       "      <td>2021-12-31 23:04:05+00:00</td>\n",
       "      <td>1477052972018196481</td>\n",
       "      <td>#CProgramming #CProgramming My Program: I need...</td>\n",
       "      <td>FreelanceJobRSS</td>\n",
       "    </tr>\n",
       "    <tr>\n",
       "      <th>0</th>\n",
       "      <td>2021-12-31 23:10:08+00:00</td>\n",
       "      <td>1477054493451816964</td>\n",
       "      <td>My Program https://t.co/xIgbNbbllw I need help...</td>\n",
       "      <td>CxxStandard</td>\n",
       "    </tr>\n",
       "  </tbody>\n",
       "</table>\n",
       "<p>244435 rows × 4 columns</p>\n",
       "</div>"
      ],
      "text/plain": [
       "                        Datetime             Tweet Id  \\\n",
       "244434 2012-01-01 00:13:05+00:00   153267463356817409   \n",
       "244433 2012-01-01 00:30:03+00:00   153271732407500802   \n",
       "244432 2012-01-01 01:12:53+00:00   153282513492639745   \n",
       "244431 2012-01-01 02:29:36+00:00   153301816988286976   \n",
       "244430 2012-01-01 02:37:34+00:00   153303824646418432   \n",
       "...                          ...                  ...   \n",
       "4      2021-12-31 22:23:30+00:00  1477042757516599300   \n",
       "3      2021-12-31 22:23:31+00:00  1477042761920614403   \n",
       "2      2021-12-31 22:48:33+00:00  1477049063010803715   \n",
       "1      2021-12-31 23:04:05+00:00  1477052972018196481   \n",
       "0      2021-12-31 23:10:08+00:00  1477054493451816964   \n",
       "\n",
       "                                                     Text         Username  \n",
       "244434  Data Structures Using C++ (Programming): This ...      darcy_parcy  \n",
       "244433  #Freelancer #jobs http://t.co/C1di97l3 Custom ...   GetAFreelancer  \n",
       "244432  Selby jennings paris Job IB (Paris) C++ Softwa...       Bfa_emploi  \n",
       "244431  Open Question: I want to learn c++ programming...         justnoob  \n",
       "244430                 C programming http://t.co/lI6gAMuZ        CLchijobs  \n",
       "...                                                   ...              ...  \n",
       "4       Telegram Api Expert -- 2 https://t.co/26tFe2P3...  C_main_return_0  \n",
       "3       Telegram Api Expert https://t.co/sJy9vhqQLY Mo...  C_main_return_0  \n",
       "2       #CProgramming #Linux #RegularExpressions flex ...      Sol_Danmeri  \n",
       "1       #CProgramming #CProgramming My Program: I need...  FreelanceJobRSS  \n",
       "0       My Program https://t.co/xIgbNbbllw I need help...      CxxStandard  \n",
       "\n",
       "[244435 rows x 4 columns]"
      ]
     },
     "execution_count": 3,
     "metadata": {},
     "output_type": "execute_result"
    }
   ],
   "source": [
    "tweets_df_cplus.sort_values(by='Datetime')"
   ]
  },
  {
   "cell_type": "code",
   "execution_count": 4,
   "metadata": {},
   "outputs": [
    {
     "data": {
      "text/plain": [
       "<AxesSubplot:>"
      ]
     },
     "execution_count": 4,
     "metadata": {},
     "output_type": "execute_result"
    },
    {
     "data": {
      "image/png": "[encoded data removed]",
      "text/plain": [
       "<Figure size 432x288 with 1 Axes>"
      ]
     },
     "metadata": {
      "needs_background": "light"
     },
     "output_type": "display_data"
    }
   ],
   "source": [
    "%matplotlib inline\n",
    "\n",
    "tweets_df_cplus['Datetime'].value_counts().plot()"
   ]
  },
  {
   "cell_type": "code",
   "execution_count": null,
   "metadata": {},
   "outputs": [],
   "source": []
  }
 ],
 "metadata": {
  "interpreter": {
   "hash": "494c0f77ca896791bbaf94040dca4e617475c7532e710e14d57b026a81815282"
  },
  "kernelspec": {
   "display_name": "Python 3.9.5 64-bit",
   "language": "python",
   "name": "python3"
  },
  "language_info": {
   "codemirror_mode": {
    "name": "ipython",
    "version": 3
   },
   "file_extension": ".py",
   "mimetype": "text/x-python",
   "name": "python",
   "nbconvert_exporter": "python",
   "pygments_lexer": "ipython3",
   "version": "3.9.5"
  },
  "orig_nbformat": 4
 },
 "nbformat": 4,
 "nbformat_minor": 2
}
