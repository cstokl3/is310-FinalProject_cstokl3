{
 "cells": [
  {
   "cell_type": "code",
   "execution_count": 1,
   "metadata": {},
   "outputs": [],
   "source": [
    "import snscrape.modules.twitter as sntwitter\n",
    "import pandas as pd\n",
    "import matplotlib_inline\n",
    "from datetime import datetime, timedelta\n",
    "from matplotlib import pyplot as plt\n",
    "from matplotlib import dates as mpl_dates"
   ]
  },
  {
   "cell_type": "code",
   "execution_count": 3,
   "metadata": {},
   "outputs": [
    {
     "name": "stderr",
     "output_type": "stream",
     "text": [
      "Could not translate t.co card URL on tweet 647710007723737088\n"
     ]
    }
   ],
   "source": [
    "# Creating list to append tweet data to\n",
    "tweets_list_csharp = []\n",
    "\n",
    "# Using TwitterSearchScraper to scrape data and append tweets to list\n",
    "for i,tweety in enumerate(sntwitter.TwitterSearchScraper('c# AND programming since:2012-01-01 until:2022-01-01').get_items()):\n",
    "    tweets_list_csharp.append([tweety.date, tweety.id, tweety.content, tweety.user.username])\n",
    "    \n",
    "# Creating a dataframe from the tweets list above\n",
    "tweets_df_csharp = pd.DataFrame(tweets_list_csharp, columns=['Datetime', 'Tweet Id', 'Text', 'Username'])"
   ]
  },
  {
   "cell_type": "code",
   "execution_count": 6,
   "metadata": {},
   "outputs": [],
   "source": [
    "tweets_df_csharp.to_csv('csharp.csv')"
   ]
  },
  {
   "cell_type": "code",
   "execution_count": 4,
   "metadata": {},
   "outputs": [
    {
     "data": {
      "text/html": [
       "<div>\n",
       "<style scoped>\n",
       "    .dataframe tbody tr th:only-of-type {\n",
       "        vertical-align: middle;\n",
       "    }\n",
       "\n",
       "    .dataframe tbody tr th {\n",
       "        vertical-align: top;\n",
       "    }\n",
       "\n",
       "    .dataframe thead th {\n",
       "        text-align: right;\n",
       "    }\n",
       "</style>\n",
       "<table border=\"1\" class=\"dataframe\">\n",
       "  <thead>\n",
       "    <tr style=\"text-align: right;\">\n",
       "      <th></th>\n",
       "      <th>Datetime</th>\n",
       "      <th>Tweet Id</th>\n",
       "      <th>Text</th>\n",
       "      <th>Username</th>\n",
       "    </tr>\n",
       "  </thead>\n",
       "  <tbody>\n",
       "    <tr>\n",
       "      <th>118696</th>\n",
       "      <td>2012-01-01 00:33:22+00:00</td>\n",
       "      <td>153272568776900608</td>\n",
       "      <td>#C-Sharp Need Mafia game Script Coded by joyfl...</td>\n",
       "      <td>gueskydotcom</td>\n",
       "    </tr>\n",
       "    <tr>\n",
       "      <th>118695</th>\n",
       "      <td>2012-01-01 00:35:15+00:00</td>\n",
       "      <td>153273041885986816</td>\n",
       "      <td>#C Nonpublic project #1364491 by networke: The...</td>\n",
       "      <td>gueskydotcom</td>\n",
       "    </tr>\n",
       "    <tr>\n",
       "      <th>118694</th>\n",
       "      <td>2012-01-01 02:00:00+00:00</td>\n",
       "      <td>153294371935105024</td>\n",
       "      <td>#C++ Need Mafia game Script Coded by joyflemi:...</td>\n",
       "      <td>gueskydotcom</td>\n",
       "    </tr>\n",
       "    <tr>\n",
       "      <th>118693</th>\n",
       "      <td>2012-01-01 03:12:10+00:00</td>\n",
       "      <td>153312529337159680</td>\n",
       "      <td>#C Software development for Triton ATMs by Jad...</td>\n",
       "      <td>gueskydotcom</td>\n",
       "    </tr>\n",
       "    <tr>\n",
       "      <th>118692</th>\n",
       "      <td>2012-01-01 03:33:54+00:00</td>\n",
       "      <td>153318002526396416</td>\n",
       "      <td>#C++ Software development for Triton ATMs by J...</td>\n",
       "      <td>gueskydotcom</td>\n",
       "    </tr>\n",
       "    <tr>\n",
       "      <th>...</th>\n",
       "      <td>...</td>\n",
       "      <td>...</td>\n",
       "      <td>...</td>\n",
       "      <td>...</td>\n",
       "    </tr>\n",
       "    <tr>\n",
       "      <th>4</th>\n",
       "      <td>2021-12-31 19:00:01+00:00</td>\n",
       "      <td>1476991548990496768</td>\n",
       "      <td>Day 1 of #100DaysOfCode. Today I coded 14 mins...</td>\n",
       "      <td>stratonov16</td>\n",
       "    </tr>\n",
       "    <tr>\n",
       "      <th>3</th>\n",
       "      <td>2021-12-31 20:25:48+00:00</td>\n",
       "      <td>1477013140629954563</td>\n",
       "      <td>I was also curious to know how games are made ...</td>\n",
       "      <td>dszvivian</td>\n",
       "    </tr>\n",
       "    <tr>\n",
       "      <th>2</th>\n",
       "      <td>2021-12-31 20:51:41+00:00</td>\n",
       "      <td>1477019653604052995</td>\n",
       "      <td>Check out my #C #Programming #Tutorial on #You...</td>\n",
       "      <td>TimothyUnkert</td>\n",
       "    </tr>\n",
       "    <tr>\n",
       "      <th>1</th>\n",
       "      <td>2021-12-31 21:07:17+00:00</td>\n",
       "      <td>1477023577421627397</td>\n",
       "      <td>A Simple #Setup for #VIM for #C #Programming!\\...</td>\n",
       "      <td>TimothyUnkert</td>\n",
       "    </tr>\n",
       "    <tr>\n",
       "      <th>0</th>\n",
       "      <td>2021-12-31 21:09:43+00:00</td>\n",
       "      <td>1477024189173452800</td>\n",
       "      <td>So, am I taking the address of the pizza (C++)...</td>\n",
       "      <td>waltomatic</td>\n",
       "    </tr>\n",
       "  </tbody>\n",
       "</table>\n",
       "<p>118697 rows × 4 columns</p>\n",
       "</div>"
      ],
      "text/plain": [
       "                        Datetime             Tweet Id  \\\n",
       "118696 2012-01-01 00:33:22+00:00   153272568776900608   \n",
       "118695 2012-01-01 00:35:15+00:00   153273041885986816   \n",
       "118694 2012-01-01 02:00:00+00:00   153294371935105024   \n",
       "118693 2012-01-01 03:12:10+00:00   153312529337159680   \n",
       "118692 2012-01-01 03:33:54+00:00   153318002526396416   \n",
       "...                          ...                  ...   \n",
       "4      2021-12-31 19:00:01+00:00  1476991548990496768   \n",
       "3      2021-12-31 20:25:48+00:00  1477013140629954563   \n",
       "2      2021-12-31 20:51:41+00:00  1477019653604052995   \n",
       "1      2021-12-31 21:07:17+00:00  1477023577421627397   \n",
       "0      2021-12-31 21:09:43+00:00  1477024189173452800   \n",
       "\n",
       "                                                     Text       Username  \n",
       "118696  #C-Sharp Need Mafia game Script Coded by joyfl...   gueskydotcom  \n",
       "118695  #C Nonpublic project #1364491 by networke: The...   gueskydotcom  \n",
       "118694  #C++ Need Mafia game Script Coded by joyflemi:...   gueskydotcom  \n",
       "118693  #C Software development for Triton ATMs by Jad...   gueskydotcom  \n",
       "118692  #C++ Software development for Triton ATMs by J...   gueskydotcom  \n",
       "...                                                   ...            ...  \n",
       "4       Day 1 of #100DaysOfCode. Today I coded 14 mins...    stratonov16  \n",
       "3       I was also curious to know how games are made ...      dszvivian  \n",
       "2       Check out my #C #Programming #Tutorial on #You...  TimothyUnkert  \n",
       "1       A Simple #Setup for #VIM for #C #Programming!\\...  TimothyUnkert  \n",
       "0       So, am I taking the address of the pizza (C++)...     waltomatic  \n",
       "\n",
       "[118697 rows x 4 columns]"
      ]
     },
     "execution_count": 4,
     "metadata": {},
     "output_type": "execute_result"
    }
   ],
   "source": [
    "tweets_df_csharp.sort_values(by='Datetime')"
   ]
  },
  {
   "cell_type": "code",
   "execution_count": 5,
   "metadata": {},
   "outputs": [
    {
     "data": {
      "text/plain": [
       "<AxesSubplot:>"
      ]
     },
     "execution_count": 5,
     "metadata": {},
     "output_type": "execute_result"
    },
    {
     "data": {
      "image/png": "[encoded data removed]",
      "text/plain": [
       "<Figure size 432x288 with 1 Axes>"
      ]
     },
     "metadata": {
      "needs_background": "light"
     },
     "output_type": "display_data"
    }
   ],
   "source": [
    "%matplotlib inline\n",
    "\n",
    "tweets_df_csharp['Datetime'].value_counts().plot()"
   ]
  },
  {
   "cell_type": "code",
   "execution_count": null,
   "metadata": {},
   "outputs": [],
   "source": []
  }
 ],
 "metadata": {
  "interpreter": {
   "hash": "494c0f77ca896791bbaf94040dca4e617475c7532e710e14d57b026a81815282"
  },
  "kernelspec": {
   "display_name": "Python 3.9.5 64-bit",
   "language": "python",
   "name": "python3"
  },
  "language_info": {
   "codemirror_mode": {
    "name": "ipython",
    "version": 3
   },
   "file_extension": ".py",
   "mimetype": "text/x-python",
   "name": "python",
   "nbconvert_exporter": "python",
   "pygments_lexer": "ipython3",
   "version": "3.9.5"
  },
  "orig_nbformat": 4
 },
 "nbformat": 4,
 "nbformat_minor": 2
}
