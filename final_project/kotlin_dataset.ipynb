{
 "cells": [
  {
   "cell_type": "code",
   "execution_count": 1,
   "metadata": {},
   "outputs": [],
   "source": [
    "import snscrape.modules.twitter as sntwitter\n",
    "import pandas as pd\n",
    "import matplotlib_inline\n",
    "from datetime import datetime, timedelta\n",
    "from matplotlib import pyplot as plt\n",
    "from matplotlib import dates as mpl_dates"
   ]
  },
  {
   "cell_type": "code",
   "execution_count": 2,
   "metadata": {},
   "outputs": [],
   "source": [
    "# Creating list to append tweet data to\n",
    "tweets_list_kotlin = []\n",
    "\n",
    "# Using TwitterSearchScraper to scrape data and append tweets to list\n",
    "for i,tweetys in enumerate(sntwitter.TwitterSearchScraper('kotlin AND programming since:2012-01-01 until:2022-01-01').get_items()):\n",
    "    tweets_list_kotlin.append([tweetys.date, tweetys.id, tweetys.content, tweetys.user.username])\n",
    "    \n",
    "# Creating a dataframe from the tweets list above\n",
    "tweets_df_kotlin = pd.DataFrame(tweets_list_kotlin, columns=['Datetime', 'Tweet Id', 'Text', 'Username'])"
   ]
  },
  {
   "cell_type": "code",
   "execution_count": 9,
   "metadata": {},
   "outputs": [],
   "source": [
    "tweets_df_kotlin.to_csv('kotlin.csv')"
   ]
  },
  {
   "cell_type": "code",
   "execution_count": 3,
   "metadata": {},
   "outputs": [
    {
     "data": {
      "text/html": [
       "<div>\n",
       "<style scoped>\n",
       "    .dataframe tbody tr th:only-of-type {\n",
       "        vertical-align: middle;\n",
       "    }\n",
       "\n",
       "    .dataframe tbody tr th {\n",
       "        vertical-align: top;\n",
       "    }\n",
       "\n",
       "    .dataframe thead th {\n",
       "        text-align: right;\n",
       "    }\n",
       "</style>\n",
       "<table border=\"1\" class=\"dataframe\">\n",
       "  <thead>\n",
       "    <tr style=\"text-align: right;\">\n",
       "      <th></th>\n",
       "      <th>Datetime</th>\n",
       "      <th>Tweet Id</th>\n",
       "      <th>Text</th>\n",
       "      <th>Username</th>\n",
       "    </tr>\n",
       "  </thead>\n",
       "  <tbody>\n",
       "    <tr>\n",
       "      <th>26394</th>\n",
       "      <td>2012-01-04 17:01:21+00:00</td>\n",
       "      <td>154608364234620929</td>\n",
       "      <td>スライドとビデオが同期してていいねえ。 &amp;gt; InfoQ: The Kotlin Pro...</td>\n",
       "      <td>kakkun61</td>\n",
       "    </tr>\n",
       "    <tr>\n",
       "      <th>26393</th>\n",
       "      <td>2012-01-05 05:16:38+00:00</td>\n",
       "      <td>154793405803806720</td>\n",
       "      <td>\"10 programming languages that could shake up ...</td>\n",
       "      <td>drypot</td>\n",
       "    </tr>\n",
       "    <tr>\n",
       "      <th>26392</th>\n",
       "      <td>2012-01-05 08:35:04+00:00</td>\n",
       "      <td>154843343644401664</td>\n",
       "      <td>Kotlin은 아직 후보에 오를 수준은 안되나요? RT @hollobit: 10 p...</td>\n",
       "      <td>julymon</td>\n",
       "    </tr>\n",
       "    <tr>\n",
       "      <th>26391</th>\n",
       "      <td>2012-01-10 21:04:47+00:00</td>\n",
       "      <td>156843956737544193</td>\n",
       "      <td>Looking forward to be able to download the @ko...</td>\n",
       "      <td>EvertTigchelaar</td>\n",
       "    </tr>\n",
       "    <tr>\n",
       "      <th>26390</th>\n",
       "      <td>2012-01-11 09:09:41+00:00</td>\n",
       "      <td>157026382071857152</td>\n",
       "      <td>Kotlin Web Demo is out! | Project Kotlin http:...</td>\n",
       "      <td>yavaeye</td>\n",
       "    </tr>\n",
       "    <tr>\n",
       "      <th>...</th>\n",
       "      <td>...</td>\n",
       "      <td>...</td>\n",
       "      <td>...</td>\n",
       "      <td>...</td>\n",
       "    </tr>\n",
       "    <tr>\n",
       "      <th>4</th>\n",
       "      <td>2021-12-31 16:30:00+00:00</td>\n",
       "      <td>1476953796450426887</td>\n",
       "      <td>Day 7: Google isn't so badass after all! All i...</td>\n",
       "      <td>rclarkecf</td>\n",
       "    </tr>\n",
       "    <tr>\n",
       "      <th>3</th>\n",
       "      <td>2021-12-31 17:05:38+00:00</td>\n",
       "      <td>1476962766460268547</td>\n",
       "      <td>Apply Now: Android / Kotlin Developer at X-Tea...</td>\n",
       "      <td>JobberHome</td>\n",
       "    </tr>\n",
       "    <tr>\n",
       "      <th>2</th>\n",
       "      <td>2021-12-31 18:02:04+00:00</td>\n",
       "      <td>1476976965089431552</td>\n",
       "      <td>@Binatenoor Here's my bucket list:\\n- Go for w...</td>\n",
       "      <td>0xAf2f6ad</td>\n",
       "    </tr>\n",
       "    <tr>\n",
       "      <th>1</th>\n",
       "      <td>2021-12-31 19:00:01+00:00</td>\n",
       "      <td>1476991550148071424</td>\n",
       "      <td>Now that I cracked the code for publishing to ...</td>\n",
       "      <td>rclarkecf</td>\n",
       "    </tr>\n",
       "    <tr>\n",
       "      <th>0</th>\n",
       "      <td>2021-12-31 22:45:43+00:00</td>\n",
       "      <td>1477048351690534912</td>\n",
       "      <td>@DThompsonDev Is my priority a #programming la...</td>\n",
       "      <td>RealNeilC</td>\n",
       "    </tr>\n",
       "  </tbody>\n",
       "</table>\n",
       "<p>26395 rows × 4 columns</p>\n",
       "</div>"
      ],
      "text/plain": [
       "                       Datetime             Tweet Id  \\\n",
       "26394 2012-01-04 17:01:21+00:00   154608364234620929   \n",
       "26393 2012-01-05 05:16:38+00:00   154793405803806720   \n",
       "26392 2012-01-05 08:35:04+00:00   154843343644401664   \n",
       "26391 2012-01-10 21:04:47+00:00   156843956737544193   \n",
       "26390 2012-01-11 09:09:41+00:00   157026382071857152   \n",
       "...                         ...                  ...   \n",
       "4     2021-12-31 16:30:00+00:00  1476953796450426887   \n",
       "3     2021-12-31 17:05:38+00:00  1476962766460268547   \n",
       "2     2021-12-31 18:02:04+00:00  1476976965089431552   \n",
       "1     2021-12-31 19:00:01+00:00  1476991550148071424   \n",
       "0     2021-12-31 22:45:43+00:00  1477048351690534912   \n",
       "\n",
       "                                                    Text         Username  \n",
       "26394  スライドとビデオが同期してていいねえ。 &gt; InfoQ: The Kotlin Pro...         kakkun61  \n",
       "26393  \"10 programming languages that could shake up ...           drypot  \n",
       "26392  Kotlin은 아직 후보에 오를 수준은 안되나요? RT @hollobit: 10 p...          julymon  \n",
       "26391  Looking forward to be able to download the @ko...  EvertTigchelaar  \n",
       "26390  Kotlin Web Demo is out! | Project Kotlin http:...          yavaeye  \n",
       "...                                                  ...              ...  \n",
       "4      Day 7: Google isn't so badass after all! All i...        rclarkecf  \n",
       "3      Apply Now: Android / Kotlin Developer at X-Tea...       JobberHome  \n",
       "2      @Binatenoor Here's my bucket list:\\n- Go for w...        0xAf2f6ad  \n",
       "1      Now that I cracked the code for publishing to ...        rclarkecf  \n",
       "0      @DThompsonDev Is my priority a #programming la...        RealNeilC  \n",
       "\n",
       "[26395 rows x 4 columns]"
      ]
     },
     "execution_count": 3,
     "metadata": {},
     "output_type": "execute_result"
    }
   ],
   "source": [
    "tweets_df_kotlin.sort_values(by='Datetime')"
   ]
  },
  {
   "cell_type": "code",
   "execution_count": 6,
   "metadata": {},
   "outputs": [
    {
     "data": {
      "text/plain": [
       "<AxesSubplot:>"
      ]
     },
     "execution_count": 6,
     "metadata": {},
     "output_type": "execute_result"
    },
    {
     "data": {
      "image/png": "[encoded data removed]",
      "text/plain": [
       "<Figure size 432x288 with 1 Axes>"
      ]
     },
     "metadata": {
      "needs_background": "light"
     },
     "output_type": "display_data"
    }
   ],
   "source": [
    "%matplotlib inline\n",
    "\n",
    "plot_kotlin = tweets_df_kotlin['Datetime'].value_counts().plot()\n",
    "plot_kotlin"
   ]
  },
  {
   "cell_type": "code",
   "execution_count": 8,
   "metadata": {},
   "outputs": [
    {
     "ename": "AttributeError",
     "evalue": "'AxesSubplot' object has no attribute 'plt'",
     "output_type": "error",
     "traceback": [
      "\u001b[1;31m---------------------------------------------------------------------------\u001b[0m",
      "\u001b[1;31mAttributeError\u001b[0m                            Traceback (most recent call last)",
      "\u001b[1;32mc:\\Users\\bake9\\Desktop\\is310\\cstokl3\\is310-FinalProject_cstokl3\\final_project\\kotlin_dataset.ipynb Cell 5'\u001b[0m in \u001b[0;36m<module>\u001b[1;34m\u001b[0m\n\u001b[1;32m----> <a href='vscode-notebook-cell:/c%3A/Users/bake9/Desktop/is310/cstokl3/is310-FinalProject_cstokl3/final_project/kotlin_dataset.ipynb#ch0000004?line=0'>1</a>\u001b[0m plot_kotlin\u001b[39m.\u001b[39;49mplt\u001b[39m.\u001b[39mfigure(figsize\u001b[39m=\u001b[39m(\u001b[39m20\u001b[39m,\u001b[39m5\u001b[39m))\n",
      "\u001b[1;31mAttributeError\u001b[0m: 'AxesSubplot' object has no attribute 'plt'"
     ]
    }
   ],
   "source": [
    "plot_kotlin.plt.figure(figsize=(20,5))"
   ]
  },
  {
   "cell_type": "code",
   "execution_count": null,
   "metadata": {},
   "outputs": [],
   "source": []
  }
 ],
 "metadata": {
  "interpreter": {
   "hash": "494c0f77ca896791bbaf94040dca4e617475c7532e710e14d57b026a81815282"
  },
  "kernelspec": {
   "display_name": "Python 3.9.5 64-bit",
   "language": "python",
   "name": "python3"
  },
  "language_info": {
   "codemirror_mode": {
    "name": "ipython",
    "version": 3
   },
   "file_extension": ".py",
   "mimetype": "text/x-python",
   "name": "python",
   "nbconvert_exporter": "python",
   "pygments_lexer": "ipython3",
   "version": "3.9.5"
  },
  "orig_nbformat": 4
 },
 "nbformat": 4,
 "nbformat_minor": 2
}
