{
 "cells": [
  {
   "cell_type": "code",
   "execution_count": 1,
   "metadata": {},
   "outputs": [],
   "source": [
    "import snscrape.modules.twitter as sntwitter\n",
    "import pandas as pd\n",
    "import matplotlib_inline\n",
    "from datetime import datetime, timedelta\n",
    "from matplotlib import pyplot as plt\n",
    "from matplotlib import dates as mpl_dates"
   ]
  },
  {
   "cell_type": "code",
   "execution_count": 2,
   "metadata": {},
   "outputs": [],
   "source": [
    "# Creating list to append tweet data to\n",
    "tweets_list_datascience = []\n",
    "\n",
    "# Using TwitterSearchScraper to scrape data and append tweets to list\n",
    "for i,tweeti in enumerate(sntwitter.TwitterSearchScraper('data science AND programming since:2012-01-01 until:2022-01-01').get_items()):\n",
    "    tweets_list_datascience.append([tweeti.date, tweeti.id, tweeti.content, tweeti.user.username])\n",
    "    \n",
    "# Creating a dataframe from the tweets list above\n",
    "tweets_df_datascience = pd.DataFrame(tweets_list_datascience, columns=['Datetime', 'Tweet Id', 'Text', 'Username'])"
   ]
  },
  {
   "cell_type": "code",
   "execution_count": 5,
   "metadata": {},
   "outputs": [],
   "source": [
    "tweets_df_datascience.to_csv('datascience.csv')"
   ]
  },
  {
   "cell_type": "code",
   "execution_count": 3,
   "metadata": {},
   "outputs": [
    {
     "data": {
      "text/html": [
       "<div>\n",
       "<style scoped>\n",
       "    .dataframe tbody tr th:only-of-type {\n",
       "        vertical-align: middle;\n",
       "    }\n",
       "\n",
       "    .dataframe tbody tr th {\n",
       "        vertical-align: top;\n",
       "    }\n",
       "\n",
       "    .dataframe thead th {\n",
       "        text-align: right;\n",
       "    }\n",
       "</style>\n",
       "<table border=\"1\" class=\"dataframe\">\n",
       "  <thead>\n",
       "    <tr style=\"text-align: right;\">\n",
       "      <th></th>\n",
       "      <th>Datetime</th>\n",
       "      <th>Tweet Id</th>\n",
       "      <th>Text</th>\n",
       "      <th>Username</th>\n",
       "    </tr>\n",
       "  </thead>\n",
       "  <tbody>\n",
       "    <tr>\n",
       "      <th>44797</th>\n",
       "      <td>2012-01-11 08:36:48+00:00</td>\n",
       "      <td>157018106626191360</td>\n",
       "      <td>Computer science , programming not opening up ...</td>\n",
       "      <td>KlingKlang1968</td>\n",
       "    </tr>\n",
       "    <tr>\n",
       "      <th>44796</th>\n",
       "      <td>2012-01-14 02:43:55+00:00</td>\n",
       "      <td>158016462898991104</td>\n",
       "      <td>Dr. Bunsen Blog - Home - 6 Great Textbooks in ...</td>\n",
       "      <td>AnthonyNystrom</td>\n",
       "    </tr>\n",
       "    <tr>\n",
       "      <th>44795</th>\n",
       "      <td>2012-01-22 18:21:40+00:00</td>\n",
       "      <td>161151559038799872</td>\n",
       "      <td>R Programming for Bioinformatics (Chapman 038 ...</td>\n",
       "      <td>3kathatk</td>\n",
       "    </tr>\n",
       "    <tr>\n",
       "      <th>44794</th>\n",
       "      <td>2012-01-26 00:37:04+00:00</td>\n",
       "      <td>162333197659684865</td>\n",
       "      <td>Created music in Computer Science tonight, Pur...</td>\n",
       "      <td>DasKota</td>\n",
       "    </tr>\n",
       "    <tr>\n",
       "      <th>44793</th>\n",
       "      <td>2012-01-30 11:56:35+00:00</td>\n",
       "      <td>163953753211420672</td>\n",
       "      <td>R Programming for Bioinformatics (Chapman 038 ...</td>\n",
       "      <td>nhimaitf</td>\n",
       "    </tr>\n",
       "    <tr>\n",
       "      <th>...</th>\n",
       "      <td>...</td>\n",
       "      <td>...</td>\n",
       "      <td>...</td>\n",
       "      <td>...</td>\n",
       "    </tr>\n",
       "    <tr>\n",
       "      <th>4</th>\n",
       "      <td>2021-12-31 20:34:03+00:00</td>\n",
       "      <td>1477015216433029126</td>\n",
       "      <td>PYTHON: Learn Coding Programs with Python Prog...</td>\n",
       "      <td>pythonbot_</td>\n",
       "    </tr>\n",
       "    <tr>\n",
       "      <th>3</th>\n",
       "      <td>2021-12-31 23:04:56+00:00</td>\n",
       "      <td>1477053184367640578</td>\n",
       "      <td>In all jobs that do some form of scientific co...</td>\n",
       "      <td>chocogammamon</td>\n",
       "    </tr>\n",
       "    <tr>\n",
       "      <th>2</th>\n",
       "      <td>2021-12-31 23:11:04+00:00</td>\n",
       "      <td>1477054727921672192</td>\n",
       "      <td>RT 6 Helpful Tips for Acing Your Data Science ...</td>\n",
       "      <td>DrMattCrowson</td>\n",
       "    </tr>\n",
       "    <tr>\n",
       "      <th>1</th>\n",
       "      <td>2021-12-31 23:18:46+00:00</td>\n",
       "      <td>1477056665988079625</td>\n",
       "      <td>6 Helpful Tips for Acing Your Data Science Int...</td>\n",
       "      <td>labvault</td>\n",
       "    </tr>\n",
       "    <tr>\n",
       "      <th>0</th>\n",
       "      <td>2021-12-31 23:43:10+00:00</td>\n",
       "      <td>1477062805757079557</td>\n",
       "      <td>2022 goals: \\n- get a haircut \\n- workout hard...</td>\n",
       "      <td>coldfridge22</td>\n",
       "    </tr>\n",
       "  </tbody>\n",
       "</table>\n",
       "<p>44798 rows × 4 columns</p>\n",
       "</div>"
      ],
      "text/plain": [
       "                       Datetime             Tweet Id  \\\n",
       "44797 2012-01-11 08:36:48+00:00   157018106626191360   \n",
       "44796 2012-01-14 02:43:55+00:00   158016462898991104   \n",
       "44795 2012-01-22 18:21:40+00:00   161151559038799872   \n",
       "44794 2012-01-26 00:37:04+00:00   162333197659684865   \n",
       "44793 2012-01-30 11:56:35+00:00   163953753211420672   \n",
       "...                         ...                  ...   \n",
       "4     2021-12-31 20:34:03+00:00  1477015216433029126   \n",
       "3     2021-12-31 23:04:56+00:00  1477053184367640578   \n",
       "2     2021-12-31 23:11:04+00:00  1477054727921672192   \n",
       "1     2021-12-31 23:18:46+00:00  1477056665988079625   \n",
       "0     2021-12-31 23:43:10+00:00  1477062805757079557   \n",
       "\n",
       "                                                    Text        Username  \n",
       "44797  Computer science , programming not opening up ...  KlingKlang1968  \n",
       "44796  Dr. Bunsen Blog - Home - 6 Great Textbooks in ...  AnthonyNystrom  \n",
       "44795  R Programming for Bioinformatics (Chapman 038 ...        3kathatk  \n",
       "44794  Created music in Computer Science tonight, Pur...         DasKota  \n",
       "44793  R Programming for Bioinformatics (Chapman 038 ...        nhimaitf  \n",
       "...                                                  ...             ...  \n",
       "4      PYTHON: Learn Coding Programs with Python Prog...      pythonbot_  \n",
       "3      In all jobs that do some form of scientific co...   chocogammamon  \n",
       "2      RT 6 Helpful Tips for Acing Your Data Science ...   DrMattCrowson  \n",
       "1      6 Helpful Tips for Acing Your Data Science Int...        labvault  \n",
       "0      2022 goals: \\n- get a haircut \\n- workout hard...    coldfridge22  \n",
       "\n",
       "[44798 rows x 4 columns]"
      ]
     },
     "execution_count": 3,
     "metadata": {},
     "output_type": "execute_result"
    }
   ],
   "source": [
    "tweets_df_datascience.sort_values(by='Datetime')"
   ]
  },
  {
   "cell_type": "code",
   "execution_count": 4,
   "metadata": {},
   "outputs": [
    {
     "data": {
      "text/plain": [
       "<AxesSubplot:>"
      ]
     },
     "execution_count": 4,
     "metadata": {},
     "output_type": "execute_result"
    },
    {
     "data": {
      "image/png": "[encoded data removed]",
      "text/plain": [
       "<Figure size 432x288 with 1 Axes>"
      ]
     },
     "metadata": {
      "needs_background": "light"
     },
     "output_type": "display_data"
    }
   ],
   "source": [
    "%matplotlib inline\n",
    "\n",
    "tweets_df_datascience['Datetime'].value_counts().plot()"
   ]
  },
  {
   "cell_type": "code",
   "execution_count": null,
   "metadata": {},
   "outputs": [],
   "source": []
  }
 ],
 "metadata": {
  "interpreter": {
   "hash": "494c0f77ca896791bbaf94040dca4e617475c7532e710e14d57b026a81815282"
  },
  "kernelspec": {
   "display_name": "Python 3.9.5 64-bit",
   "language": "python",
   "name": "python3"
  },
  "language_info": {
   "codemirror_mode": {
    "name": "ipython",
    "version": 3
   },
   "file_extension": ".py",
   "mimetype": "text/x-python",
   "name": "python",
   "nbconvert_exporter": "python",
   "pygments_lexer": "ipython3",
   "version": "3.9.5"
  },
  "orig_nbformat": 4
 },
 "nbformat": 4,
 "nbformat_minor": 2
}
