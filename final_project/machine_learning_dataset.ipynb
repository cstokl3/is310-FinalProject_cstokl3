{
 "cells": [
  {
   "cell_type": "code",
   "execution_count": 1,
   "metadata": {},
   "outputs": [],
   "source": [
    "import snscrape.modules.twitter as sntwitter\n",
    "import pandas as pd\n",
    "import matplotlib_inline\n",
    "from datetime import datetime, timedelta\n",
    "from matplotlib import pyplot as plt\n",
    "from matplotlib import dates as mpl_dates"
   ]
  },
  {
   "cell_type": "code",
   "execution_count": 2,
   "metadata": {},
   "outputs": [],
   "source": [
    "# Creating list to append tweet data to\n",
    "tweets_list_ml = []\n",
    "\n",
    "# Using TwitterSearchScraper to scrape data and append tweets to list\n",
    "for i,tweetys in enumerate(sntwitter.TwitterSearchScraper('machine learning AND programming since:2012-01-01 until:2022-01-01').get_items()):\n",
    "    tweets_list_ml.append([tweetys.date, tweetys.id, tweetys.content, tweetys.user.username])\n",
    "    \n",
    "# Creating a dataframe from the tweets list above\n",
    "tweets_df_ml = pd.DataFrame(tweets_list_ml, columns=['Datetime', 'Tweet Id', 'Text', 'Username'])"
   ]
  },
  {
   "cell_type": "code",
   "execution_count": 5,
   "metadata": {},
   "outputs": [],
   "source": [
    "tweets_df_ml.to_csv('machinelearning.csv')"
   ]
  },
  {
   "cell_type": "code",
   "execution_count": 4,
   "metadata": {},
   "outputs": [
    {
     "data": {
      "text/html": [
       "<div>\n",
       "<style scoped>\n",
       "    .dataframe tbody tr th:only-of-type {\n",
       "        vertical-align: middle;\n",
       "    }\n",
       "\n",
       "    .dataframe tbody tr th {\n",
       "        vertical-align: top;\n",
       "    }\n",
       "\n",
       "    .dataframe thead th {\n",
       "        text-align: right;\n",
       "    }\n",
       "</style>\n",
       "<table border=\"1\" class=\"dataframe\">\n",
       "  <thead>\n",
       "    <tr style=\"text-align: right;\">\n",
       "      <th></th>\n",
       "      <th>Datetime</th>\n",
       "      <th>Tweet Id</th>\n",
       "      <th>Text</th>\n",
       "      <th>Username</th>\n",
       "    </tr>\n",
       "  </thead>\n",
       "  <tbody>\n",
       "    <tr>\n",
       "      <th>46770</th>\n",
       "      <td>2012-01-03 20:22:32+00:00</td>\n",
       "      <td>154296607951687681</td>\n",
       "      <td>@alynpost I am a Bayesian with a background in...</td>\n",
       "      <td>pookleblinky</td>\n",
       "    </tr>\n",
       "    <tr>\n",
       "      <th>46769</th>\n",
       "      <td>2012-01-06 17:02:40+00:00</td>\n",
       "      <td>155333471131287556</td>\n",
       "      <td>Wow! New trend in programming interviews: \"Sta...</td>\n",
       "      <td>yaaang</td>\n",
       "    </tr>\n",
       "    <tr>\n",
       "      <th>46768</th>\n",
       "      <td>2012-01-10 08:26:39+00:00</td>\n",
       "      <td>156653163989041152</td>\n",
       "      <td>web design and programming - data mining algor...</td>\n",
       "      <td>algorithm_jobs</td>\n",
       "    </tr>\n",
       "    <tr>\n",
       "      <th>46767</th>\n",
       "      <td>2012-01-11 04:23:54+00:00</td>\n",
       "      <td>156954461863022593</td>\n",
       "      <td>My machine learning score:\\nReview Questions: ...</td>\n",
       "      <td>kei200975</td>\n",
       "    </tr>\n",
       "    <tr>\n",
       "      <th>46766</th>\n",
       "      <td>2012-01-11 10:22:41+00:00</td>\n",
       "      <td>157044753467314177</td>\n",
       "      <td>Machine Learning- Social Media - ScriptLance P...</td>\n",
       "      <td>AIntellig</td>\n",
       "    </tr>\n",
       "    <tr>\n",
       "      <th>...</th>\n",
       "      <td>...</td>\n",
       "      <td>...</td>\n",
       "      <td>...</td>\n",
       "      <td>...</td>\n",
       "    </tr>\n",
       "    <tr>\n",
       "      <th>4</th>\n",
       "      <td>2021-12-31 16:43:41+00:00</td>\n",
       "      <td>1476957241630773252</td>\n",
       "      <td>@3rdManRun Well i am still undecided between w...</td>\n",
       "      <td>Al21071</td>\n",
       "    </tr>\n",
       "    <tr>\n",
       "      <th>3</th>\n",
       "      <td>2021-12-31 19:14:34+00:00</td>\n",
       "      <td>1476995213943918594</td>\n",
       "      <td>The Alignment Problem: Machine Learning and Hu...</td>\n",
       "      <td>rasangarocks</td>\n",
       "    </tr>\n",
       "    <tr>\n",
       "      <th>2</th>\n",
       "      <td>2021-12-31 20:34:03+00:00</td>\n",
       "      <td>1477015216433029126</td>\n",
       "      <td>PYTHON: Learn Coding Programs with Python Prog...</td>\n",
       "      <td>pythonbot_</td>\n",
       "    </tr>\n",
       "    <tr>\n",
       "      <th>1</th>\n",
       "      <td>2021-12-31 20:52:56+00:00</td>\n",
       "      <td>1477019968822779907</td>\n",
       "      <td>@JoFrhwld I had to take \"Computer Applications...</td>\n",
       "      <td>AdoKerrison</td>\n",
       "    </tr>\n",
       "    <tr>\n",
       "      <th>0</th>\n",
       "      <td>2021-12-31 22:46:00+00:00</td>\n",
       "      <td>1477048422947561476</td>\n",
       "      <td>#100DaysOfCode \\nday 7\\nending 2021 with my fo...</td>\n",
       "      <td>the_happy_pan</td>\n",
       "    </tr>\n",
       "  </tbody>\n",
       "</table>\n",
       "<p>46771 rows × 4 columns</p>\n",
       "</div>"
      ],
      "text/plain": [
       "                       Datetime             Tweet Id  \\\n",
       "46770 2012-01-03 20:22:32+00:00   154296607951687681   \n",
       "46769 2012-01-06 17:02:40+00:00   155333471131287556   \n",
       "46768 2012-01-10 08:26:39+00:00   156653163989041152   \n",
       "46767 2012-01-11 04:23:54+00:00   156954461863022593   \n",
       "46766 2012-01-11 10:22:41+00:00   157044753467314177   \n",
       "...                         ...                  ...   \n",
       "4     2021-12-31 16:43:41+00:00  1476957241630773252   \n",
       "3     2021-12-31 19:14:34+00:00  1476995213943918594   \n",
       "2     2021-12-31 20:34:03+00:00  1477015216433029126   \n",
       "1     2021-12-31 20:52:56+00:00  1477019968822779907   \n",
       "0     2021-12-31 22:46:00+00:00  1477048422947561476   \n",
       "\n",
       "                                                    Text        Username  \n",
       "46770  @alynpost I am a Bayesian with a background in...    pookleblinky  \n",
       "46769  Wow! New trend in programming interviews: \"Sta...          yaaang  \n",
       "46768  web design and programming - data mining algor...  algorithm_jobs  \n",
       "46767  My machine learning score:\\nReview Questions: ...       kei200975  \n",
       "46766  Machine Learning- Social Media - ScriptLance P...       AIntellig  \n",
       "...                                                  ...             ...  \n",
       "4      @3rdManRun Well i am still undecided between w...         Al21071  \n",
       "3      The Alignment Problem: Machine Learning and Hu...    rasangarocks  \n",
       "2      PYTHON: Learn Coding Programs with Python Prog...      pythonbot_  \n",
       "1      @JoFrhwld I had to take \"Computer Applications...     AdoKerrison  \n",
       "0      #100DaysOfCode \\nday 7\\nending 2021 with my fo...   the_happy_pan  \n",
       "\n",
       "[46771 rows x 4 columns]"
      ]
     },
     "execution_count": 4,
     "metadata": {},
     "output_type": "execute_result"
    }
   ],
   "source": [
    "tweets_df_ml.sort_values(by='Datetime')"
   ]
  },
  {
   "cell_type": "code",
   "execution_count": 3,
   "metadata": {},
   "outputs": [
    {
     "data": {
      "text/plain": [
       "<AxesSubplot:>"
      ]
     },
     "execution_count": 3,
     "metadata": {},
     "output_type": "execute_result"
    },
    {
     "data": {
      "image/png": "[encoded data removed]",
      "text/plain": [
       "<Figure size 432x288 with 1 Axes>"
      ]
     },
     "metadata": {
      "needs_background": "light"
     },
     "output_type": "display_data"
    }
   ],
   "source": [
    "%matplotlib inline\n",
    "\n",
    "tweets_df_ml['Datetime'].value_counts().plot()"
   ]
  },
  {
   "cell_type": "code",
   "execution_count": null,
   "metadata": {},
   "outputs": [],
   "source": []
  }
 ],
 "metadata": {
  "interpreter": {
   "hash": "494c0f77ca896791bbaf94040dca4e617475c7532e710e14d57b026a81815282"
  },
  "kernelspec": {
   "display_name": "Python 3.9.5 64-bit",
   "language": "python",
   "name": "python3"
  },
  "language_info": {
   "codemirror_mode": {
    "name": "ipython",
    "version": 3
   },
   "file_extension": ".py",
   "mimetype": "text/x-python",
   "name": "python",
   "nbconvert_exporter": "python",
   "pygments_lexer": "ipython3",
   "version": "3.9.5"
  },
  "orig_nbformat": 4
 },
 "nbformat": 4,
 "nbformat_minor": 2
}
