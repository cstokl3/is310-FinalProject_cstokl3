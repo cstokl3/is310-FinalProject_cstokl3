{
 "cells": [
  {
   "cell_type": "code",
   "execution_count": 1,
   "metadata": {},
   "outputs": [],
   "source": [
    "import snscrape.modules.twitter as sntwitter\n",
    "import pandas as pd\n",
    "import matplotlib_inline\n",
    "from datetime import datetime, timedelta\n",
    "from matplotlib import pyplot as plt\n",
    "from matplotlib import dates as mpl_dates"
   ]
  },
  {
   "cell_type": "code",
   "execution_count": 5,
   "metadata": {},
   "outputs": [
    {
     "ename": "TypeError",
     "evalue": "__init__() missing 1 required positional argument: 'imageUrl'",
     "output_type": "error",
     "traceback": [
      "\u001b[1;31m---------------------------------------------------------------------------\u001b[0m",
      "\u001b[1;31mTypeError\u001b[0m                                 Traceback (most recent call last)",
      "\u001b[1;32mc:\\Users\\bake9\\Desktop\\is310\\cstokl3\\is310-FinalProject_cstokl3\\final_project\\python_dataset.ipynb Cell 2'\u001b[0m in \u001b[0;36m<module>\u001b[1;34m\u001b[0m\n\u001b[0;32m      <a href='vscode-notebook-cell:/c%3A/Users/bake9/Desktop/is310/cstokl3/is310-FinalProject_cstokl3/final_project/python_dataset.ipynb#ch0000001?line=1'>2</a>\u001b[0m tweets_list_python \u001b[39m=\u001b[39m []\n\u001b[0;32m      <a href='vscode-notebook-cell:/c%3A/Users/bake9/Desktop/is310/cstokl3/is310-FinalProject_cstokl3/final_project/python_dataset.ipynb#ch0000001?line=3'>4</a>\u001b[0m \u001b[39m# Using TwitterSearchScraper to scrape data and append tweets to list\u001b[39;00m\n\u001b[1;32m----> <a href='vscode-notebook-cell:/c%3A/Users/bake9/Desktop/is310/cstokl3/is310-FinalProject_cstokl3/final_project/python_dataset.ipynb#ch0000001?line=4'>5</a>\u001b[0m \u001b[39mfor\u001b[39;00m i,tweets \u001b[39min\u001b[39;00m \u001b[39menumerate\u001b[39m(sntwitter\u001b[39m.\u001b[39mTwitterSearchScraper(\u001b[39m'\u001b[39m\u001b[39mpython AND programming since:2012-01-01 until:2022-01-01\u001b[39m\u001b[39m'\u001b[39m)\u001b[39m.\u001b[39mget_items()):\n\u001b[0;32m      <a href='vscode-notebook-cell:/c%3A/Users/bake9/Desktop/is310/cstokl3/is310-FinalProject_cstokl3/final_project/python_dataset.ipynb#ch0000001?line=5'>6</a>\u001b[0m     tweets_list_python\u001b[39m.\u001b[39mappend([tweets\u001b[39m.\u001b[39mdate, tweets\u001b[39m.\u001b[39mid, tweets\u001b[39m.\u001b[39mcontent, tweets\u001b[39m.\u001b[39muser\u001b[39m.\u001b[39musername])\n\u001b[0;32m      <a href='vscode-notebook-cell:/c%3A/Users/bake9/Desktop/is310/cstokl3/is310-FinalProject_cstokl3/final_project/python_dataset.ipynb#ch0000001?line=7'>8</a>\u001b[0m \u001b[39m# Creating a dataframe from the tweets list above\u001b[39;00m\n",
      "File \u001b[1;32mc:\\Users\\bake9\\AppData\\Local\\Programs\\Python\\Python39\\lib\\site-packages\\snscrape\\modules\\twitter.py:1406\u001b[0m, in \u001b[0;36mTwitterSearchScraper.get_items\u001b[1;34m(self)\u001b[0m\n\u001b[0;32m   <a href='file:///c%3A/Users/bake9/AppData/Local/Programs/Python/Python39/lib/site-packages/snscrape/modules/twitter.py?line=1402'>1403</a>\u001b[0m \t\u001b[39mdel\u001b[39;00m paginationParams[\u001b[39m'\u001b[39m\u001b[39mtweet_search_mode\u001b[39m\u001b[39m'\u001b[39m]\n\u001b[0;32m   <a href='file:///c%3A/Users/bake9/AppData/Local/Programs/Python/Python39/lib/site-packages/snscrape/modules/twitter.py?line=1404'>1405</a>\u001b[0m \u001b[39mfor\u001b[39;00m obj \u001b[39min\u001b[39;00m \u001b[39mself\u001b[39m\u001b[39m.\u001b[39m_iter_api_data(\u001b[39m'\u001b[39m\u001b[39mhttps://api.twitter.com/2/search/adaptive.json\u001b[39m\u001b[39m'\u001b[39m, _TwitterAPIType\u001b[39m.\u001b[39mV2, params, paginationParams, cursor \u001b[39m=\u001b[39m \u001b[39mself\u001b[39m\u001b[39m.\u001b[39m_cursor):\n\u001b[1;32m-> <a href='file:///c%3A/Users/bake9/AppData/Local/Programs/Python/Python39/lib/site-packages/snscrape/modules/twitter.py?line=1405'>1406</a>\u001b[0m \t\u001b[39myield from\u001b[39;00m \u001b[39mself\u001b[39m\u001b[39m.\u001b[39m_v2_timeline_instructions_to_tweets(obj)\n",
      "File \u001b[1;32mc:\\Users\\bake9\\AppData\\Local\\Programs\\Python\\Python39\\lib\\site-packages\\snscrape\\modules\\twitter.py:781\u001b[0m, in \u001b[0;36m_TwitterAPIScraper._v2_timeline_instructions_to_tweets\u001b[1;34m(self, obj, includeConversationThreads)\u001b[0m\n\u001b[0;32m    <a href='file:///c%3A/Users/bake9/AppData/Local/Programs/Python/Python39/lib/site-packages/snscrape/modules/twitter.py?line=778'>779</a>\u001b[0m \u001b[39mfor\u001b[39;00m entry \u001b[39min\u001b[39;00m entries:\n\u001b[0;32m    <a href='file:///c%3A/Users/bake9/AppData/Local/Programs/Python/Python39/lib/site-packages/snscrape/modules/twitter.py?line=779'>780</a>\u001b[0m \t\u001b[39mif\u001b[39;00m entry[\u001b[39m'\u001b[39m\u001b[39mentryId\u001b[39m\u001b[39m'\u001b[39m]\u001b[39m.\u001b[39mstartswith(\u001b[39m'\u001b[39m\u001b[39msq-I-t-\u001b[39m\u001b[39m'\u001b[39m) \u001b[39mor\u001b[39;00m entry[\u001b[39m'\u001b[39m\u001b[39mentryId\u001b[39m\u001b[39m'\u001b[39m]\u001b[39m.\u001b[39mstartswith(\u001b[39m'\u001b[39m\u001b[39mtweet-\u001b[39m\u001b[39m'\u001b[39m):\n\u001b[1;32m--> <a href='file:///c%3A/Users/bake9/AppData/Local/Programs/Python/Python39/lib/site-packages/snscrape/modules/twitter.py?line=780'>781</a>\u001b[0m \t\t\u001b[39myield from\u001b[39;00m \u001b[39mself\u001b[39m\u001b[39m.\u001b[39m_v2_instruction_tweet_entry_to_tweet(entry[\u001b[39m'\u001b[39m\u001b[39mentryId\u001b[39m\u001b[39m'\u001b[39m], entry[\u001b[39m'\u001b[39m\u001b[39mcontent\u001b[39m\u001b[39m'\u001b[39m], obj)\n\u001b[0;32m    <a href='file:///c%3A/Users/bake9/AppData/Local/Programs/Python/Python39/lib/site-packages/snscrape/modules/twitter.py?line=781'>782</a>\u001b[0m \t\u001b[39melif\u001b[39;00m includeConversationThreads \u001b[39mand\u001b[39;00m entry[\u001b[39m'\u001b[39m\u001b[39mentryId\u001b[39m\u001b[39m'\u001b[39m]\u001b[39m.\u001b[39mstartswith(\u001b[39m'\u001b[39m\u001b[39mconversationThread-\u001b[39m\u001b[39m'\u001b[39m) \u001b[39mand\u001b[39;00m \u001b[39mnot\u001b[39;00m entry[\u001b[39m'\u001b[39m\u001b[39mentryId\u001b[39m\u001b[39m'\u001b[39m]\u001b[39m.\u001b[39mendswith(\u001b[39m'\u001b[39m\u001b[39m-show_more_cursor\u001b[39m\u001b[39m'\u001b[39m):\n\u001b[0;32m    <a href='file:///c%3A/Users/bake9/AppData/Local/Programs/Python/Python39/lib/site-packages/snscrape/modules/twitter.py?line=782'>783</a>\u001b[0m \t\t\u001b[39mfor\u001b[39;00m item \u001b[39min\u001b[39;00m entry[\u001b[39m'\u001b[39m\u001b[39mcontent\u001b[39m\u001b[39m'\u001b[39m][\u001b[39m'\u001b[39m\u001b[39mtimelineModule\u001b[39m\u001b[39m'\u001b[39m][\u001b[39m'\u001b[39m\u001b[39mitems\u001b[39m\u001b[39m'\u001b[39m]:\n",
      "File \u001b[1;32mc:\\Users\\bake9\\AppData\\Local\\Programs\\Python\\Python39\\lib\\site-packages\\snscrape\\modules\\twitter.py:804\u001b[0m, in \u001b[0;36m_TwitterAPIScraper._v2_instruction_tweet_entry_to_tweet\u001b[1;34m(self, entryId, entry, obj)\u001b[0m\n\u001b[0;32m    <a href='file:///c%3A/Users/bake9/AppData/Local/Programs/Python/Python39/lib/site-packages/snscrape/modules/twitter.py?line=801'>802</a>\u001b[0m \u001b[39melse\u001b[39;00m:\n\u001b[0;32m    <a href='file:///c%3A/Users/bake9/AppData/Local/Programs/Python/Python39/lib/site-packages/snscrape/modules/twitter.py?line=802'>803</a>\u001b[0m \t\u001b[39mraise\u001b[39;00m snscrape\u001b[39m.\u001b[39mbase\u001b[39m.\u001b[39mScraperException(\u001b[39mf\u001b[39m\u001b[39m'\u001b[39m\u001b[39mUnable to handle entry \u001b[39m\u001b[39m{\u001b[39;00mentryId\u001b[39m!r}\u001b[39;00m\u001b[39m'\u001b[39m)\n\u001b[1;32m--> <a href='file:///c%3A/Users/bake9/AppData/Local/Programs/Python/Python39/lib/site-packages/snscrape/modules/twitter.py?line=803'>804</a>\u001b[0m \u001b[39myield\u001b[39;00m \u001b[39mself\u001b[39;49m\u001b[39m.\u001b[39;49m_tweet_to_tweet(tweet, obj)\n",
      "File \u001b[1;32mc:\\Users\\bake9\\AppData\\Local\\Programs\\Python\\Python39\\lib\\site-packages\\snscrape\\modules\\twitter.py:1237\u001b[0m, in \u001b[0;36m_TwitterAPIScraper._tweet_to_tweet\u001b[1;34m(self, tweet, obj)\u001b[0m\n\u001b[0;32m   <a href='file:///c%3A/Users/bake9/AppData/Local/Programs/Python/Python39/lib/site-packages/snscrape/modules/twitter.py?line=1234'>1235</a>\u001b[0m \tkwargs[\u001b[39m'\u001b[39m\u001b[39mquotedTweet\u001b[39m\u001b[39m'\u001b[39m] \u001b[39m=\u001b[39m \u001b[39mself\u001b[39m\u001b[39m.\u001b[39m_tweet_to_tweet(obj[\u001b[39m'\u001b[39m\u001b[39mglobalObjects\u001b[39m\u001b[39m'\u001b[39m][\u001b[39m'\u001b[39m\u001b[39mtweets\u001b[39m\u001b[39m'\u001b[39m][tweet[\u001b[39m'\u001b[39m\u001b[39mquoted_status_id_str\u001b[39m\u001b[39m'\u001b[39m]], obj)\n\u001b[0;32m   <a href='file:///c%3A/Users/bake9/AppData/Local/Programs/Python/Python39/lib/site-packages/snscrape/modules/twitter.py?line=1235'>1236</a>\u001b[0m \u001b[39mif\u001b[39;00m \u001b[39m'\u001b[39m\u001b[39mcard\u001b[39m\u001b[39m'\u001b[39m \u001b[39min\u001b[39;00m tweet:\n\u001b[1;32m-> <a href='file:///c%3A/Users/bake9/AppData/Local/Programs/Python/Python39/lib/site-packages/snscrape/modules/twitter.py?line=1236'>1237</a>\u001b[0m \tkwargs[\u001b[39m'\u001b[39m\u001b[39mcard\u001b[39m\u001b[39m'\u001b[39m] \u001b[39m=\u001b[39m \u001b[39mself\u001b[39;49m\u001b[39m.\u001b[39;49m_make_card(tweet[\u001b[39m'\u001b[39;49m\u001b[39mcard\u001b[39;49m\u001b[39m'\u001b[39;49m], _TwitterAPIType\u001b[39m.\u001b[39;49mV2, \u001b[39mself\u001b[39;49m\u001b[39m.\u001b[39;49m_get_tweet_id(tweet))\n\u001b[0;32m   <a href='file:///c%3A/Users/bake9/AppData/Local/Programs/Python/Python39/lib/site-packages/snscrape/modules/twitter.py?line=1237'>1238</a>\u001b[0m \u001b[39mreturn\u001b[39;00m \u001b[39mself\u001b[39m\u001b[39m.\u001b[39m_make_tweet(tweet, user, \u001b[39m*\u001b[39m\u001b[39m*\u001b[39mkwargs)\n",
      "File \u001b[1;32mc:\\Users\\bake9\\AppData\\Local\\Programs\\Python\\Python39\\lib\\site-packages\\snscrape\\modules\\twitter.py:1063\u001b[0m, in \u001b[0;36m_TwitterAPIScraper._make_card\u001b[1;34m(self, card, apiType, tweetId)\u001b[0m\n\u001b[0;32m   <a href='file:///c%3A/Users/bake9/AppData/Local/Programs/Python/Python39/lib/site-packages/snscrape/modules/twitter.py?line=1060'>1061</a>\u001b[0m \tkwargs[\u001b[39m'\u001b[39m\u001b[39mrevueAccountId\u001b[39m\u001b[39m'\u001b[39m] \u001b[39m=\u001b[39m \u001b[39mint\u001b[39m(kwargs[\u001b[39m'\u001b[39m\u001b[39mrevueAccountId\u001b[39m\u001b[39m'\u001b[39m])\n\u001b[0;32m   <a href='file:///c%3A/Users/bake9/AppData/Local/Programs/Python/Python39/lib/site-packages/snscrape/modules/twitter.py?line=1061'>1062</a>\u001b[0m \tkwargs[\u001b[39m'\u001b[39m\u001b[39missueCount\u001b[39m\u001b[39m'\u001b[39m] \u001b[39m=\u001b[39m \u001b[39mint\u001b[39m(kwargs[\u001b[39m'\u001b[39m\u001b[39missueCount\u001b[39m\u001b[39m'\u001b[39m])\n\u001b[1;32m-> <a href='file:///c%3A/Users/bake9/AppData/Local/Programs/Python/Python39/lib/site-packages/snscrape/modules/twitter.py?line=1062'>1063</a>\u001b[0m \t\u001b[39mreturn\u001b[39;00m NewsletterCard(\u001b[39m*\u001b[39m\u001b[39m*\u001b[39mkwargs)\n\u001b[0;32m   <a href='file:///c%3A/Users/bake9/AppData/Local/Programs/Python/Python39/lib/site-packages/snscrape/modules/twitter.py?line=1063'>1064</a>\u001b[0m \u001b[39melif\u001b[39;00m cardName \u001b[39m==\u001b[39m \u001b[39m'\u001b[39m\u001b[39m3337203208:newsletter_issue\u001b[39m\u001b[39m'\u001b[39m:\n\u001b[0;32m   <a href='file:///c%3A/Users/bake9/AppData/Local/Programs/Python/Python39/lib/site-packages/snscrape/modules/twitter.py?line=1064'>1065</a>\u001b[0m \tkwargs \u001b[39m=\u001b[39m _kwargs_from_map({\n\u001b[0;32m   <a href='file:///c%3A/Users/bake9/AppData/Local/Programs/Python/Python39/lib/site-packages/snscrape/modules/twitter.py?line=1065'>1066</a>\u001b[0m \t\t\u001b[39m'\u001b[39m\u001b[39mnewsletter_title\u001b[39m\u001b[39m'\u001b[39m: \u001b[39m'\u001b[39m\u001b[39mnewsletterTitle\u001b[39m\u001b[39m'\u001b[39m,\n\u001b[0;32m   <a href='file:///c%3A/Users/bake9/AppData/Local/Programs/Python/Python39/lib/site-packages/snscrape/modules/twitter.py?line=1066'>1067</a>\u001b[0m \t\t\u001b[39m'\u001b[39m\u001b[39mnewsletter_description\u001b[39m\u001b[39m'\u001b[39m: \u001b[39m'\u001b[39m\u001b[39mnewsletterDescription\u001b[39m\u001b[39m'\u001b[39m,\n\u001b[1;32m   (...)\u001b[0m\n\u001b[0;32m   <a href='file:///c%3A/Users/bake9/AppData/Local/Programs/Python/Python39/lib/site-packages/snscrape/modules/twitter.py?line=1072'>1073</a>\u001b[0m \t\t\u001b[39m'\u001b[39m\u001b[39mrevue_account_id\u001b[39m\u001b[39m'\u001b[39m: \u001b[39m'\u001b[39m\u001b[39mrevueAccountId\u001b[39m\u001b[39m'\u001b[39m\n\u001b[0;32m   <a href='file:///c%3A/Users/bake9/AppData/Local/Programs/Python/Python39/lib/site-packages/snscrape/modules/twitter.py?line=1073'>1074</a>\u001b[0m \t})\n",
      "\u001b[1;31mTypeError\u001b[0m: __init__() missing 1 required positional argument: 'imageUrl'"
     ]
    }
   ],
   "source": [
    "# Creating list to append tweet data to\n",
    "tweets_list_python = []\n",
    "\n",
    "# Using TwitterSearchScraper to scrape data and append tweets to list\n",
    "for i,tweets in enumerate(sntwitter.TwitterSearchScraper('python AND programming since:2012-01-01 until:2022-01-01').get_items()):\n",
    "    tweets_list_python.append([tweets.date, tweets.id, tweets.content, tweets.user.username])\n",
    "    \n",
    "# Creating a dataframe from the tweets list above\n",
    "tweets_df_python = pd.DataFrame(tweets_list_python, columns=['Datetime', 'Tweet Id', 'Text', 'Username'])"
   ]
  },
  {
   "cell_type": "code",
   "execution_count": null,
   "metadata": {},
   "outputs": [],
   "source": []
  }
 ],
 "metadata": {
  "interpreter": {
   "hash": "494c0f77ca896791bbaf94040dca4e617475c7532e710e14d57b026a81815282"
  },
  "kernelspec": {
   "display_name": "Python 3.9.5 64-bit",
   "language": "python",
   "name": "python3"
  },
  "language_info": {
   "codemirror_mode": {
    "name": "ipython",
    "version": 3
   },
   "file_extension": ".py",
   "mimetype": "text/x-python",
   "name": "python",
   "nbconvert_exporter": "python",
   "pygments_lexer": "ipython3",
   "version": "3.9.5"
  },
  "orig_nbformat": 4
 },
 "nbformat": 4,
 "nbformat_minor": 2
}
